{
 "cells": [
  {
   "cell_type": "markdown",
   "id": "5770a517",
   "metadata": {},
   "source": [
    "## Working with Python Variables"
   ]
  },
  {
   "cell_type": "markdown",
   "id": "711ddd74",
   "metadata": {},
   "source": [
    "Structure of creating a variable\n",
    "[variable_name] [assignment operator] [value]\n",
    "myVar = \"blah\"\n",
    "\n",
    "### What are the data types in Python\n",
    "1. Strings - anything inside of \" \" or ' '\n",
    "2. Booleans - True/False\n",
    "3. Integers - whole numbers, even or odd\n",
    "4. Floats - any number with a decimal\n"
   ]
  },
  {
   "cell_type": "code",
   "execution_count": null,
   "id": "f6d9bc3a",
   "metadata": {},
   "outputs": [],
   "source": [
    "# VAriable Reassignment\n",
    "\n",
    "# A student's GPA throughout high school\n",
    "student_gpa = 3.2 # Freshman year\n",
    "\n",
    "student_gpa = 3.4 # Sophmore year\n",
    "\n",
    "student_gpa = 3.7 # Junior year\n",
    "\n",
    "student_gpa = 3.9 # Senior year\n",
    "print(student_gpa)\n",
    "\n",
    "# OUTPUT: 3.9\n",
    "\n",
    "# If you need to store all data\n",
    "student_gpa_Freshman = 3.2 # Freshman year\n",
    "\n",
    "student_gpa_So = 3.4 # Sophmore year\n",
    "\n",
    "student_gpa_Ju = 3.7 # Junior year\n",
    "\n",
    "student_gpa_Se = 3.9 # Senior year\n",
    "print(student_gpa)"
   ]
  },
  {
   "cell_type": "code",
   "execution_count": 2,
   "id": "391337cc",
   "metadata": {},
   "outputs": [
    {
     "name": "stdout",
     "output_type": "stream",
     "text": [
      "True\n"
     ]
    }
   ],
   "source": [
    "# Sports Team Statistics\n",
    "\n",
    "# Basketball team variables\n",
    "team_name = \"Riverside Ravens\"\n",
    "wins = 18\n",
    "losses = 7\n",
    "points_scored = 1456\n",
    "points_allowed = 1298\n",
    "leading_scorer = \"Jordan Thompson\"\n",
    "average_points_per_game = 58.2\n",
    "championship_contender = True\n",
    "\n",
    "print(championship_contender)"
   ]
  },
  {
   "cell_type": "code",
   "execution_count": 3,
   "id": "5ef32f04",
   "metadata": {},
   "outputs": [
    {
     "name": "stdout",
     "output_type": "stream",
     "text": [
      "David\n"
     ]
    }
   ],
   "source": [
    "# the input function\n",
    "\n",
    "#input(\"Enter your first name: \")\n",
    "\n",
    "first_name = input(\"Enter your first name: \")\n",
    "\n",
    "print(first_name)"
   ]
  },
  {
   "cell_type": "markdown",
   "id": "973c030c",
   "metadata": {},
   "source": [
    "## 4 Main Computational Process\n",
    "\n",
    "- Input\n",
    "- Processing \n",
    "- Output\n",
    "- Storage (Memory)"
   ]
  },
  {
   "cell_type": "markdown",
   "id": "c16ba660",
   "metadata": {},
   "source": [
    "## Strings, Assignments, and Comments\n",
    "\n",
    "**Data Types** - consists of a set of values and a set of operations that can be performed on those values\n",
    "\n",
    "A **Literal** - is the way a value of a data type looks to a programmer\n",
    "\n",
    "<table>\n",
    "    <tr>\n",
    "        <th>Type of Data</th>\n",
    "        <th>Python Type Name</th>\n",
    "        <th>Example Literals</th>\n",
    "    </tr>\n",
    "    <tr>\n",
    "        <td>Integers</td>\n",
    "        <td>int</td>\n",
    "        <td>-1, 0, 1, 365, -1457324</td>\n",
    "    </tr>\n",
    "    <tr>\n",
    "        <td>Real Numbers</td>\n",
    "        <td>float</td>\n",
    "        <td>-0.55, .3333, 3.14, 6.0, .5, 5.</td>\n",
    "    </tr>\n",
    "    <tr>\n",
    "        <td>Character Strings</td>\n",
    "        <td>str</td>\n",
    "        <td>\"Hello\", \"\", \" \", 'A', \"675\"</td>\n",
    "    </tr>\n",
    "</table>"
   ]
  },
  {
   "cell_type": "code",
   "execution_count": 1,
   "id": "e3b8dc35",
   "metadata": {},
   "outputs": [
    {
     "name": "stdout",
     "output_type": "stream",
     "text": [
      "Hello there!\n",
      "675\n"
     ]
    }
   ],
   "source": [
    "hello = 'Hello there!'\n",
    "myInt = 675\n",
    "print(hello) # Literal is: Hello there!\n",
    "print(myInt) # Literal is: 675"
   ]
  },
  {
   "cell_type": "markdown",
   "id": "b4e4bd14",
   "metadata": {},
   "source": [
    "## Escape Sequences\n",
    "\n",
    "**Escape Sequence** - the way Python expresses special characters, such as the tab, the newline, and the backspace as Literals\n",
    "\n",
    "<table>\n",
    "    <tr>\n",
    "        <th>Escape Sequence</th>\n",
    "        <th>Meaning</th>\n",
    "    </tr>\n",
    "    <tr>\n",
    "        <td>\\b</td>\n",
    "        <td>Backspace</td>\n",
    "    </tr>\n",
    "    <tr>\n",
    "        <td>\\n</td>\n",
    "        <td>Newline</td>\n",
    "    </tr>\n",
    "    <tr>\n",
    "        <td>\\t</td>\n",
    "        <td>Horizontal Tab</td>\n",
    "    </tr>\n",
    "    <tr>\n",
    "        <td>\\\\</td>\n",
    "        <td>The \\ character</td>\n",
    "    </tr>\n",
    "    <tr>\n",
    "        <td>\\'</td>\n",
    "        <td>Single quotation mark</td>\n",
    "    </tr>\n",
    "    <tr>\n",
    "        <td>\\\"</td>\n",
    "        <td>Double quotation mark</td>\n",
    "    </tr>\n",
    "</table>"
   ]
  },
  {
   "cell_type": "markdown",
   "id": "39b389bc",
   "metadata": {},
   "source": [
    "## Initializing a Variable or Constant\n",
    "\n",
    "**Initializing** - This is the process of creating a variable and setting to a default value"
   ]
  },
  {
   "cell_type": "markdown",
   "id": "fe2bb923",
   "metadata": {},
   "source": [
    "## Formatting Text for Output\n",
    "\n",
    "- This process is for presenting required output in tabular format.\n",
    "- **Field Width** - The total number of data characters and additional spaces for a given datum in a formatted string\n",
    "- **%** - format operator \n",
    "- **%6s** - format String"
   ]
  },
  {
   "cell_type": "code",
   "execution_count": 1,
   "id": "de1ef49b",
   "metadata": {},
   "outputs": [
    {
     "name": "stdout",
     "output_type": "stream",
     "text": [
      "7 10000000\n",
      "8 100000000\n",
      "9 1000000000\n",
      "10 10000000000\n"
     ]
    }
   ],
   "source": [
    "for exponent in range(7, 11):\n",
    "    print(exponent, 10 ** exponent)"
   ]
  },
  {
   "cell_type": "code",
   "execution_count": null,
   "id": "8ad826af",
   "metadata": {},
   "outputs": [
    {
     "name": "stdout",
     "output_type": "stream",
     "text": [
      "four\n",
      "  four\n",
      "four  \n"
     ]
    }
   ],
   "source": [
    "print(\"four\")\n",
    "print(\"%6s\" % \"four\") # Right Justify\n",
    "print(\"%-6s\" % \"four\") # Left Justify"
   ]
  },
  {
   "cell_type": "markdown",
   "id": "885c042a",
   "metadata": {},
   "source": [
    "## Define Iteration\n",
    "\n",
    "Repeating an action or process a predefined number of times. Also known as a specific type of iteration: **Definite Iteration**\n",
    "\n",
    "Perform an action or process until the program determines that it needs to stop: **Indefinite Iteration**\n",
    "\n",
    "#### Each of these Iterations uses a different type of Loop\n",
    "\n",
    "Defininte Iteration --> for Loop\n",
    "Indefinite Iteration --> while Loop"
   ]
  },
  {
   "cell_type": "code",
   "execution_count": 1,
   "id": "6fb0292f",
   "metadata": {},
   "outputs": [
    {
     "name": "stdout",
     "output_type": "stream",
     "text": [
      "It's alive! It's alive! It's alive! It's alive! "
     ]
    }
   ],
   "source": [
    "# Execute a Statement a Given Number of Times\n",
    "\n",
    "for eachPass in range(4): # Iterate through the conained code 4 times\n",
    "    print(\"It's alive!\", end = \" \")\n",
    "    # Each time through the loop, counting 0 - 3\n",
    "    # print It's alive! followed by a blank space"
   ]
  },
  {
   "cell_type": "markdown",
   "id": "29b765df",
   "metadata": {},
   "source": [
    "## The structure of a for Loop\n",
    "\n",
    "for (variable) in range(an integer expression):\n",
    "    <br>&nbsp;&nbsp;&nbsp;&nbsp;&nbsp;repeat any number of statements\n",
    "\n",
    "**loop header** - the line that starts with 'for'\n",
    "**loop body** - comprises the  statements in the the remaining lines of code, below the header"
   ]
  },
  {
   "cell_type": "markdown",
   "id": "6043caba",
   "metadata": {},
   "source": [
    "## Python's exponation operator"
   ]
  },
  {
   "cell_type": "code",
   "execution_count": 3,
   "id": "427267da",
   "metadata": {},
   "outputs": [
    {
     "name": "stdout",
     "output_type": "stream",
     "text": [
      "\n",
      " The variable product is currently:  1\n",
      "2 4 8 \n",
      " The variable product is now:  8\n"
     ]
    }
   ],
   "source": [
    "# Exponent Example\n",
    "\n",
    "number = 2\n",
    "exponent = 3\n",
    "product = 1\n",
    "\n",
    "print(\"\\n The variable product is currently: \", product)\n",
    "\n",
    "for eachPass in range(exponent):\n",
    "    product = product * number\n",
    "    print(product, end = \" \")\n",
    "\n",
    "print(\"\\n The variable product is now: \", product)"
   ]
  },
  {
   "cell_type": "markdown",
   "id": "444327e1",
   "metadata": {},
   "source": [
    "## Count-controlled Loops\n",
    "\n",
    "**Count-Controlled Loops** - Loops that count through a range of numbers"
   ]
  },
  {
   "cell_type": "code",
   "execution_count": 4,
   "id": "2f55a154",
   "metadata": {},
   "outputs": [
    {
     "name": "stdout",
     "output_type": "stream",
     "text": [
      "0 1 2 3 "
     ]
    }
   ],
   "source": [
    "for count in range(4):\n",
    "    print(count, end=\" \")"
   ]
  },
  {
   "cell_type": "code",
   "execution_count": 7,
   "id": "573d3552",
   "metadata": {},
   "outputs": [
    {
     "name": "stdout",
     "output_type": "stream",
     "text": [
      "1 2 6 24 24\n"
     ]
    }
   ],
   "source": [
    "product = 1 # Initializing a counter\n",
    "\n",
    "for count in range(4):\n",
    "    product = product * (count + 1) # Off by 1 error\n",
    "    print(product, end=\" \")\n",
    "\n",
    "print(product)"
   ]
  },
  {
   "cell_type": "markdown",
   "id": "228929f4",
   "metadata": {},
   "source": [
    "## Loop through a range of numbers:"
   ]
  },
  {
   "cell_type": "code",
   "execution_count": null,
   "id": "9e3f4594",
   "metadata": {},
   "outputs": [
    {
     "name": "stdout",
     "output_type": "stream",
     "text": [
      "1 2 6 24 \n",
      "\n",
      " 24\n"
     ]
    }
   ],
   "source": [
    "product = 1\n",
    "for count in range(1, 5): # (1, 5) - start on 1, 1 is the first number in the sequence\n",
    "                                     # 5 is the first number NOT in the sequence\n",
    "    product = product * count\n",
    "    print(product, end=\" \")\n",
    "\n",
    "print(\"\\n\\n\", product)"
   ]
  },
  {
   "cell_type": "markdown",
   "id": "01d8db58",
   "metadata": {},
   "source": [
    "### Loop Head structure with lower and upper bounds\n",
    "for (variable) in range (lower bound, upper bound + 1):"
   ]
  },
  {
   "cell_type": "code",
   "execution_count": null,
   "id": "f5acd8b6",
   "metadata": {},
   "outputs": [
    {
     "name": "stdout",
     "output_type": "stream",
     "text": [
      "117\n"
     ]
    }
   ],
   "source": [
    "lower = int(input(\"Enter the lower bound: \"))\n",
    "upper = int(input(\"Enter the upper bound: \"))\n",
    "\n",
    "theSum = 0 # Notice, we create theSum, because sum is apython keyword\n",
    "\n",
    "for number in range(lower, upper + 1):\n",
    "    theSum = theSum + number\n",
    "\n",
    "print(theSum)"
   ]
  },
  {
   "cell_type": "markdown",
   "id": "998b71d5",
   "metadata": {},
   "source": [
    "## Augmented Assignment"
   ]
  },
  {
   "cell_type": "markdown",
   "id": "d094da96",
   "metadata": {},
   "source": [
    "**Augmented Assignment** - when the assignment symbol can be combined with the arithmentic and concatenation operators.\n",
    "\n",
    "Structure:\n",
    "(variable) (operator)= (expression)"
   ]
  },
  {
   "cell_type": "code",
   "execution_count": 14,
   "id": "4acbf255",
   "metadata": {},
   "outputs": [
    {
     "name": "stdout",
     "output_type": "stream",
     "text": [
      "20\n",
      "60\n",
      "0\n"
     ]
    }
   ],
   "source": [
    "a = 17\n",
    "s = \"hi\"\n",
    "\n",
    "a += 3      # equivalent to a = a +3\n",
    "print(a)\n",
    "\n",
    "a *= 3      # equivalent to a = a * 3\n",
    "print(a)\n",
    "\n",
    "a %= 3      # equivalent to a = a % 3\n",
    "print(a)"
   ]
  },
  {
   "cell_type": "code",
   "execution_count": 15,
   "id": "4bc2752f",
   "metadata": {},
   "outputs": [
    {
     "name": "stdout",
     "output_type": "stream",
     "text": [
      "hi there!\n"
     ]
    }
   ],
   "source": [
    "s += \" there!\"  # equivalent to s = s + \" there\"\n",
    "print(s)"
   ]
  },
  {
   "cell_type": "markdown",
   "id": "5ad0e652",
   "metadata": {},
   "source": [
    "## Loop Errors: Off-by-One Error"
   ]
  },
  {
   "cell_type": "markdown",
   "id": "23327473",
   "metadata": {},
   "source": [
    "**Off-by-One Error** - these are errors that result when the programmer incorrectly specifies the upper bound for a loop."
   ]
  },
  {
   "cell_type": "code",
   "execution_count": 18,
   "id": "b5fc3a04",
   "metadata": {},
   "outputs": [
    {
     "name": "stdout",
     "output_type": "stream",
     "text": [
      "1\n",
      "2\n",
      "3\n",
      "4\n"
     ]
    }
   ],
   "source": [
    "# Count from 1 through 4, we think\n",
    "for count in range (1, 5):\n",
    "    print(count)"
   ]
  },
  {
   "cell_type": "markdown",
   "id": "d886ade7",
   "metadata": {},
   "source": [
    "## Traversing the Contents of a Data Sequence"
   ]
  },
  {
   "cell_type": "code",
   "execution_count": 20,
   "id": "024581fc",
   "metadata": {},
   "outputs": [
    {
     "name": "stdout",
     "output_type": "stream",
     "text": [
      "[0, 1, 2, 3]\n",
      "[1, 2, 3, 4]\n"
     ]
    }
   ],
   "source": [
    "print(list(range(4)))\n",
    "print(list(range(1,5)))"
   ]
  },
  {
   "cell_type": "code",
   "execution_count": 21,
   "id": "9ae2a69c",
   "metadata": {},
   "outputs": [
    {
     "name": "stdout",
     "output_type": "stream",
     "text": [
      "6 4 8 "
     ]
    }
   ],
   "source": [
    "# Use something other than the range function in the loop head\n",
    "for number in [6, 4, 8]:\n",
    "    print(number, end=\" \")"
   ]
  },
  {
   "cell_type": "code",
   "execution_count": 22,
   "id": "bc29a164",
   "metadata": {},
   "outputs": [
    {
     "name": "stdout",
     "output_type": "stream",
     "text": [
      "H i ,   t h e r e ! "
     ]
    }
   ],
   "source": [
    "for character in \"Hi, there!\":\n",
    "    print(character, end=\" \")"
   ]
  },
  {
   "cell_type": "markdown",
   "id": "7a189bee",
   "metadata": {},
   "source": [
    "## Specifying the Steps in the Range\n",
    "\n",
    "Another variant of the Python range() function, allows us to enter 3 values as arguments. \n",
    "\n",
    "range(val1, val2, val3)\n",
    "val1 - Is the first value in the range, starting value\n",
    "val2 - The first value NOT in the range. (val2 - 1)\n",
    "val3 - The Step Value - is the interval between the numbers used in the range"
   ]
  },
  {
   "cell_type": "code",
   "execution_count": 1,
   "id": "86dd81ef",
   "metadata": {},
   "outputs": [
    {
     "name": "stdout",
     "output_type": "stream",
     "text": [
      "[1, 2, 3, 4, 5]\n",
      "[1, 3, 5]\n",
      "[1, 4]\n"
     ]
    }
   ],
   "source": [
    "print(list(range(1, 6, 1))) # [1, 2, 3, 4, 5]\n",
    "print(list(range(1, 6, 2))) # [1, 3,  5]\n",
    "print(list(range(1, 6, 3))) # [1, 4]"
   ]
  },
  {
   "cell_type": "code",
   "execution_count": 2,
   "id": "66a32de9",
   "metadata": {},
   "outputs": [
    {
     "name": "stdout",
     "output_type": "stream",
     "text": [
      "30\n"
     ]
    }
   ],
   "source": [
    "# Let's suppose we want to compute a sum of the even numbers between 1 and 10.\n",
    "theSum = 0\n",
    "for count in range(2, 11, 2):\n",
    "    theSum += count\n",
    "\n",
    "print(theSum)"
   ]
  },
  {
   "cell_type": "markdown",
   "id": "af95987d",
   "metadata": {},
   "source": [
    "## Loops That Count Down\n",
    "\n",
    "* Until now we have been counting UP based on what our range is.\n"
   ]
  },
  {
   "cell_type": "code",
   "execution_count": 3,
   "id": "f7418302",
   "metadata": {},
   "outputs": [
    {
     "name": "stdout",
     "output_type": "stream",
     "text": [
      "10 9 8 7 6 5 4 3 2 1 "
     ]
    }
   ],
   "source": [
    "for count in range(10, 0, -1):\n",
    "    print(count, end=\" \")"
   ]
  },
  {
   "cell_type": "code",
   "execution_count": 4,
   "id": "19cf2521",
   "metadata": {},
   "outputs": [
    {
     "name": "stdout",
     "output_type": "stream",
     "text": [
      "[10, 9, 8, 7, 6, 5, 4, 3, 2, 1]\n"
     ]
    }
   ],
   "source": [
    "print(list(range(10, 0, -1)))"
   ]
  },
  {
   "cell_type": "markdown",
   "id": "98e9779f",
   "metadata": {},
   "source": [
    "## Back to Formatting Text for Output"
   ]
  },
  {
   "cell_type": "code",
   "execution_count": 5,
   "id": "b761cf23",
   "metadata": {},
   "outputs": [
    {
     "name": "stdout",
     "output_type": "stream",
     "text": [
      "7 10000000\n",
      "8 100000000\n",
      "9 1000000000\n",
      "10 10000000000\n"
     ]
    }
   ],
   "source": [
    "for exponent in range(7, 11):\n",
    "    print(exponent, 10 ** exponent)"
   ]
  },
  {
   "cell_type": "markdown",
   "id": "809c2e2e",
   "metadata": {},
   "source": [
    "### Format String & Format Operator"
   ]
  },
  {
   "cell_type": "code",
   "execution_count": 6,
   "id": "9de4b210",
   "metadata": {},
   "outputs": [
    {
     "name": "stdout",
     "output_type": "stream",
     "text": [
      "7      10000000\n",
      "8     100000000\n",
      "9    1000000000\n",
      "10  10000000000\n"
     ]
    }
   ],
   "source": [
    "# <format string> % <datum>\n",
    "\n",
    "for exponent in range(7, 11):\n",
    "    print(\"%-3d%12d\" % (exponent, 10 ** exponent))\n",
    "    # %-3d = first column in the data output - go -3 spaced back from where the first and second column meet - the field justify left\n",
    "    # %12d = second column in the data output will be 12 charaters wide (the Field Width), everything in the field will justify right"
   ]
  },
  {
   "cell_type": "code",
   "execution_count": 9,
   "id": "3f819bec",
   "metadata": {},
   "outputs": [
    {
     "name": "stdout",
     "output_type": "stream",
     "text": [
      "Your salary is $100.0\n",
      "Your salary is $ 100.00\n"
     ]
    }
   ],
   "source": [
    "salary = 100.00\n",
    "print(\"Your salary is $\" + str(salary))\n",
    "print(\"Your salary is $ %0.2f\" % salary)"
   ]
  },
  {
   "cell_type": "code",
   "execution_count": null,
   "id": "d20affee",
   "metadata": {},
   "outputs": [
    {
     "name": "stdout",
     "output_type": "stream",
     "text": [
      " 3.140\n"
     ]
    }
   ],
   "source": [
    "print(\"%6.3f\" % 3.14)\n",
    "# 6 total digits, with 3 digits after the decimal"
   ]
  },
  {
   "cell_type": "markdown",
   "id": "7161ff14",
   "metadata": {},
   "source": []
  },
  {
   "cell_type": "markdown",
   "id": "6af99cfb",
   "metadata": {},
   "source": [
    "## Python if and if-else statements"
   ]
  },
  {
   "cell_type": "markdown",
   "id": "34a3f384",
   "metadata": {},
   "source": [
    "if and if-else statements are \"Branching\" Statements. They allow Pything to examine or test a condition. Based on the results of that test, your code translation will branch in one direction or another. Analogy: Think of a Fork in the Road. You can go left or right.\n",
    "\n",
    "It is also known as a Selection Statement\n",
    "\n",
    "### How does Python test a conditional?\n",
    "\n",
    "Python uses Booleans to test conditions. \n",
    "if 2 + 3 == 5 \n",
    "    run some code...\n",
    "else\n",
    "    runs some other code..."
   ]
  },
  {
   "cell_type": "markdown",
   "id": "fc536093",
   "metadata": {},
   "source": [
    "Python will use simple Comparison Operators to do this:\n",
    "\n",
    "- ==  Equals\n",
    "- !=  Not Equals\n",
    "- <   Less than\n",
    "- \\>   Greater than\n",
    "- <=  Less than or Equal\n",
    "- \\>=  Greater than or Equal"
   ]
  },
  {
   "cell_type": "code",
   "execution_count": 4,
   "id": "39a35285",
   "metadata": {},
   "outputs": [
    {
     "name": "stdout",
     "output_type": "stream",
     "text": [
      "True\n",
      "False\n",
      "False\n",
      "True\n",
      "True\n",
      "True\n"
     ]
    }
   ],
   "source": [
    "print(4 == 4)\n",
    "print(4 == 7)\n",
    "print(4 != 4)\n",
    "print(4 < 5)\n",
    "print(4 >= 3)\n",
    "print(\"A\" < \"B\")"
   ]
  },
  {
   "cell_type": "code",
   "execution_count": 5,
   "id": "ab12253c",
   "metadata": {},
   "outputs": [
    {
     "name": "stdout",
     "output_type": "stream",
     "text": [
      "The radius is 1.4927053303604616\n"
     ]
    }
   ],
   "source": [
    "# Python if-else Statment Example\n",
    "import math\n",
    "area = float(input(\"Enter the area: \"))\n",
    "\n",
    "if area > 0:    # if <condition>:\n",
    "    radius = math.sqrt(area / math.pi)  # run a sequece of <statements>\n",
    "    print(\"The radius is\", radius)\n",
    "else:   # OTHERWISE\n",
    "    print(\"Error: the area must be a postive number.\")  # run THIS sequence of <statements>\n"
   ]
  },
  {
   "cell_type": "code",
   "execution_count": 7,
   "id": "07deb3f1",
   "metadata": {},
   "outputs": [
    {
     "name": "stdout",
     "output_type": "stream",
     "text": [
      "Maximum:  53\n",
      "Minimum:  24\n"
     ]
    }
   ],
   "source": [
    "# This examle prints the maximum and minimum of two input numbers\n",
    "first = int(input(\"Enter the first number: \"))\n",
    "second = int(input(\"Enter the second number: \"))\n",
    "\n",
    "if first > second:\n",
    "    maximum = first\n",
    "    minimum = second\n",
    "else: \n",
    "    maximum = second\n",
    "    minimum = first\n",
    "\n",
    "print(\"Maximum: \", maximum)\n",
    "print(\"Minimum: \", minimum)"
   ]
  },
  {
   "cell_type": "markdown",
   "id": "67f8e788",
   "metadata": {},
   "source": [
    "## Python min and max functions"
   ]
  },
  {
   "cell_type": "code",
   "execution_count": 8,
   "id": "83f1d86e",
   "metadata": {},
   "outputs": [
    {
     "name": "stdout",
     "output_type": "stream",
     "text": [
      "Maximum:  357\n",
      "Minimum:  185\n"
     ]
    }
   ],
   "source": [
    "# min() and max() will eliminate the need for if-else\n",
    "first = int(input(\"Enter the first number: \"))\n",
    "second = int(input(\"Enter the second number: \"))\n",
    "print(\"Maximum: \", max(first, second))\n",
    "print(\"Minimum: \", min(first, second))"
   ]
  },
  {
   "cell_type": "markdown",
   "id": "bea829b9",
   "metadata": {},
   "source": [
    "## One-way Selection Statement"
   ]
  },
  {
   "cell_type": "code",
   "execution_count": 9,
   "id": "528326b7",
   "metadata": {},
   "outputs": [
    {
     "name": "stdout",
     "output_type": "stream",
     "text": [
      "25\n"
     ]
    }
   ],
   "source": [
    "x = 25\n",
    "if x < 0:\n",
    "    x = -x\n",
    "\n",
    "print(x)"
   ]
  },
  {
   "cell_type": "markdown",
   "id": "1783f950",
   "metadata": {},
   "source": [
    "## Multi-Way if Statments"
   ]
  },
  {
   "cell_type": "code",
   "execution_count": 12,
   "id": "0b20afbe",
   "metadata": {},
   "outputs": [
    {
     "name": "stdout",
     "output_type": "stream",
     "text": [
      "The letter grade is:  A\n"
     ]
    }
   ],
   "source": [
    "number = int(input(\"Enter the numeric grade: \"))\n",
    "if number > 89:\n",
    "    letter = 'A'\n",
    "elif number > 79:\n",
    "    letter = 'B'\n",
    "elif number > 69:\n",
    "    letter = 'C' \n",
    "else:\n",
    "    letter = \"F\"\n",
    "\n",
    "print(\"The letter grade is: \", letter)"
   ]
  },
  {
   "cell_type": "markdown",
   "id": "d518c559",
   "metadata": {},
   "source": [
    "## Logical Operators and Compund Boolean Expressions\n",
    "\n",
    "Often times in the course of a Python script interpretation, we may have to check to see if 2 or more conditional statments are true before running a sequence of code."
   ]
  },
  {
   "cell_type": "code",
   "execution_count": 16,
   "id": "0898e4fd",
   "metadata": {},
   "outputs": [
    {
     "name": "stdout",
     "output_type": "stream",
     "text": [
      "Hi\n"
     ]
    }
   ],
   "source": [
    "number = int(input(\"Enter the numeric grade: \"))\n",
    "if number > 100:\n",
    "    print(\"ERROR: grade must be between 100 and 0.\")\n",
    "elif number < 0:\n",
    "    print(\"ERROR: grade must be between 100 and 0.\")\n",
    "else:\n",
    "    # Run the same code as the example above\n",
    "    print('Hi')"
   ]
  },
  {
   "cell_type": "markdown",
   "id": "d9c3e4d3",
   "metadata": {},
   "source": [
    "### Compound Boolean Expression\n",
    "\n",
    "Testing multiple conditions at the same time.\n",
    "\n",
    "To do this we use **Logical Operators**:\n",
    "\n",
    "- and\n",
    "- or\n",
    "- not"
   ]
  },
  {
   "cell_type": "code",
   "execution_count": 20,
   "id": "69a4fd27",
   "metadata": {},
   "outputs": [
    {
     "name": "stdout",
     "output_type": "stream",
     "text": [
      "Error\n",
      "Error\n"
     ]
    }
   ],
   "source": [
    "number = int(input(\"Enter the numeric grade: \"))\n",
    "if number > 100 or number < 0: # Using the or logic operator\n",
    "    print(\"Error\")\n",
    "else:\n",
    "    print('The code from above.')\n",
    "\n",
    "if number <= 0 and number >= 100: # Using the and logic operator\n",
    "    print('The code from above.')\n",
    "else:\n",
    "    print(\"Error\")"
   ]
  },
  {
   "cell_type": "markdown",
   "id": "431adeff",
   "metadata": {},
   "source": [
    "##  Truth Tables\n",
    "<h2>and Table</h2>\n",
    "<table>\n",
    "    <tr>\n",
    "        <th>\n",
    "            A\n",
    "        </th>\n",
    "        <th>\n",
    "            B\n",
    "        </th>\n",
    "        <th>\n",
    "            A and B\n",
    "        </th>\n",
    "    </tr>\n",
    "    <tr>\n",
    "        <td>\n",
    "            True\n",
    "        </td>\n",
    "        <td>\n",
    "            True\n",
    "        </td>\n",
    "        <td>\n",
    "            True\n",
    "        </td>\n",
    "    </tr>\n",
    "    <tr>\n",
    "        <td>\n",
    "            True\n",
    "        </td>\n",
    "        <td>\n",
    "            False\n",
    "        </td>\n",
    "        <td>\n",
    "            False\n",
    "        </td>\n",
    "    </tr>\n",
    "    <tr>\n",
    "        <td>\n",
    "            False\n",
    "        </td>\n",
    "        <td>\n",
    "            True\n",
    "        </td>\n",
    "        <td>\n",
    "            False\n",
    "        </td>\n",
    "    </tr>\n",
    "    <tr>\n",
    "        <td>\n",
    "            False\n",
    "        </td>\n",
    "        <td>\n",
    "            False\n",
    "        </td>\n",
    "        <td>\n",
    "            False\n",
    "        </td>\n",
    "    </tr>\n",
    "</table>\n",
    "\n",
    "<h2>or Table</h2>\n",
    "<table>\n",
    "    <tr>\n",
    "        <th>\n",
    "            A\n",
    "        </th>\n",
    "        <th>\n",
    "            B\n",
    "        </th>\n",
    "        <th>\n",
    "            A or B\n",
    "        </th>\n",
    "    </tr>\n",
    "    <tr>\n",
    "        <td>\n",
    "            True\n",
    "        </td>\n",
    "        <td>\n",
    "            True\n",
    "        </td>\n",
    "        <td>\n",
    "            True\n",
    "        </td>\n",
    "    </tr>\n",
    "    <tr>\n",
    "        <td>\n",
    "            True\n",
    "        </td>\n",
    "        <td>\n",
    "            False\n",
    "        </td>\n",
    "        <td>\n",
    "            True\n",
    "        </td>\n",
    "    </tr>\n",
    "    <tr>\n",
    "        <td>\n",
    "            False\n",
    "        </td>\n",
    "        <td>\n",
    "            True\n",
    "        </td>\n",
    "        <td>\n",
    "            True\n",
    "        </td>\n",
    "    </tr>\n",
    "    <tr>\n",
    "        <td>\n",
    "            False\n",
    "        </td>\n",
    "        <td>\n",
    "            False\n",
    "        </td>\n",
    "        <td>\n",
    "            False\n",
    "        </td>\n",
    "    </tr>\n",
    "</table>\n",
    "\n",
    "<h2>not Table</h2>\n",
    "<table>\n",
    "    <tr>\n",
    "        <th>A</th>\n",
    "        <td>not A</th>\n",
    "    </tr>\n",
    "    <tr>\n",
    "        <td>True</td>\n",
    "        <td>False</td>\n",
    "    </tr>\n",
    "    <tr>\n",
    "        <td>False</td>\n",
    "        <td>True</td>\n",
    "    </tr>\n",
    "</table>"
   ]
  },
  {
   "cell_type": "markdown",
   "id": "ca02c949",
   "metadata": {},
   "source": [
    "## Short-Circuit Evaluation\n",
    "\n",
    "Python sometimes knows the value of Boolean expression before it has evaluated all of the operands. For instance, in the xpression A and B, if A is false, then so is the expression, and there is not need to evaluate B."
   ]
  },
  {
   "cell_type": "code",
   "execution_count": 21,
   "id": "92d80de9",
   "metadata": {},
   "outputs": [
    {
     "name": "stdout",
     "output_type": "stream",
     "text": [
      "count = 0 or average <= 10\n"
     ]
    }
   ],
   "source": [
    "count = int(input(\"Enter the count: \"))\n",
    "theSum = int(input(\"enter the sum: \"))\n",
    "if count > 0 and theSum // count > 10:\n",
    "    print(\"average > 10\")\n",
    "else:\n",
    "    print(\"count = 0 or average <= 10\")"
   ]
  },
  {
   "cell_type": "markdown",
   "id": "2d4ab4c0",
   "metadata": {},
   "source": [
    "## Conditional Iteration: The while Loop"
   ]
  },
  {
   "cell_type": "code",
   "execution_count": 2,
   "id": "3e26ac5c",
   "metadata": {},
   "outputs": [],
   "source": [
    "### while Loop Structure\n",
    "\n",
    "# while <condition>:\n",
    "    # <sequence of statements>"
   ]
  },
  {
   "cell_type": "markdown",
   "id": "200ee4bc",
   "metadata": {},
   "source": [
    "## Infinite Loop\n",
    "\n",
    "a Loop that remains true, hence you never escape out of the loop."
   ]
  },
  {
   "cell_type": "markdown",
   "id": "d66187bf",
   "metadata": {},
   "source": []
  },
  {
   "cell_type": "code",
   "execution_count": 1,
   "id": "876802d6",
   "metadata": {},
   "outputs": [
    {
     "name": "stdout",
     "output_type": "stream",
     "text": [
      "The sum is: 500.20000000000005\n"
     ]
    }
   ],
   "source": [
    "'''\n",
    "set the sum to 0.0\n",
    "input a string\n",
    "while the string is not the empty string\n",
    "    convert the string to a float\n",
    "    add the float to the sum\n",
    "    input a string\n",
    "print the sum\n",
    "\n",
    "Loop Control Variable - the first input statment that initializes a variable to a value that the loop condition can test.\n",
    "'''\n",
    "\n",
    "theSum = 0.0\n",
    "data = input(\"Enter a number or just enter to quit: \")\n",
    "while data != \"\":\n",
    "    number = float(data)\n",
    "    theSum += number\n",
    "    data = input(\"Enter a number or just enter to quit: \")\n",
    "\n",
    "print(\"The sum is:\", theSum)"
   ]
  },
  {
   "cell_type": "markdown",
   "id": "a21191fa",
   "metadata": {},
   "source": [
    "The while Loop is also called an entry-control loop, because its condition is tested at the top of the loop."
   ]
  },
  {
   "cell_type": "markdown",
   "id": "91d9fa45",
   "metadata": {},
   "source": [
    "## while True Loops"
   ]
  },
  {
   "cell_type": "markdown",
   "id": "12aa4e9c",
   "metadata": {},
   "source": [
    "You can simplify the while structure and improve its readability by turning it into a while True\n",
    "\n",
    "When using while True, you also can implement a break Statement."
   ]
  },
  {
   "cell_type": "markdown",
   "id": "35b6248d",
   "metadata": {},
   "source": []
  }
 ],
 "metadata": {
  "kernelspec": {
   "display_name": "Python 3",
   "language": "python",
   "name": "python3"
  },
  "language_info": {
   "codemirror_mode": {
    "name": "ipython",
    "version": 3
   },
   "file_extension": ".py",
   "mimetype": "text/x-python",
   "name": "python",
   "nbconvert_exporter": "python",
   "pygments_lexer": "ipython3",
   "version": "3.12.1"
  }
 },
 "nbformat": 4,
 "nbformat_minor": 5
}
