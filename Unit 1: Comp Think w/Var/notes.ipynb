{
 "cells": [
  {
   "cell_type": "markdown",
   "id": "5770a517",
   "metadata": {},
   "source": [
    "## Working with Python Variables"
   ]
  },
  {
   "cell_type": "markdown",
   "id": "711ddd74",
   "metadata": {},
   "source": [
    "Structure of creating a variable\n",
    "[variable_name] [assignment operator] [value]\n",
    "myVar = \"blah\"\n",
    "\n",
    "### What are the data types in Python\n",
    "1. Strings - anything inside of \" \" or ' '\n",
    "2. Booleans - True/False\n",
    "3. Integers - whole numbers, even or odd\n",
    "4. Floats - any number with a decimal\n"
   ]
  },
  {
   "cell_type": "code",
   "execution_count": null,
   "id": "f6d9bc3a",
   "metadata": {},
   "outputs": [],
   "source": [
    "# VAriable Reassignment\n",
    "\n",
    "# A student's GPA throughout high school\n",
    "student_gpa = 3.2 # Freshman year\n",
    "\n",
    "student_gpa = 3.4 # Sophmore year\n",
    "\n",
    "student_gpa = 3.7 # Junior year\n",
    "\n",
    "student_gpa = 3.9 # Senior year\n",
    "print(student_gpa)\n",
    "\n",
    "# OUTPUT: 3.9\n",
    "\n",
    "# If you need to store all data\n",
    "student_gpa_Freshman = 3.2 # Freshman year\n",
    "\n",
    "student_gpa_So = 3.4 # Sophmore year\n",
    "\n",
    "student_gpa_Ju = 3.7 # Junior year\n",
    "\n",
    "student_gpa_Se = 3.9 # Senior year\n",
    "print(student_gpa)"
   ]
  },
  {
   "cell_type": "code",
   "execution_count": 2,
   "id": "391337cc",
   "metadata": {},
   "outputs": [
    {
     "name": "stdout",
     "output_type": "stream",
     "text": [
      "True\n"
     ]
    }
   ],
   "source": [
    "# Sports Team Statistics\n",
    "\n",
    "# Basketball team variables\n",
    "team_name = \"Riverside Ravens\"\n",
    "wins = 18\n",
    "losses = 7\n",
    "points_scored = 1456\n",
    "points_allowed = 1298\n",
    "leading_scorer = \"Jordan Thompson\"\n",
    "average_points_per_game = 58.2\n",
    "championship_contender = True\n",
    "\n",
    "print(championship_contender)"
   ]
  },
  {
   "cell_type": "code",
   "execution_count": 3,
   "id": "5ef32f04",
   "metadata": {},
   "outputs": [
    {
     "name": "stdout",
     "output_type": "stream",
     "text": [
      "David\n"
     ]
    }
   ],
   "source": [
    "# the input function\n",
    "\n",
    "#input(\"Enter your first name: \")\n",
    "\n",
    "first_name = input(\"Enter your first name: \")\n",
    "\n",
    "print(first_name)"
   ]
  }
 ],
 "metadata": {
  "kernelspec": {
   "display_name": "Python 3",
   "language": "python",
   "name": "python3"
  },
  "language_info": {
   "codemirror_mode": {
    "name": "ipython",
    "version": 3
   },
   "file_extension": ".py",
   "mimetype": "text/x-python",
   "name": "python",
   "nbconvert_exporter": "python",
   "pygments_lexer": "ipython3",
   "version": "3.12.1"
  }
 },
 "nbformat": 4,
 "nbformat_minor": 5
}
